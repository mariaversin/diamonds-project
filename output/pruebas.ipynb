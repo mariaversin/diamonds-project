{
 "cells": [
  {
   "cell_type": "code",
   "execution_count": 106,
   "metadata": {
    "scrolled": true
   },
   "outputs": [],
   "source": [
    "import pandas as pd\n",
    "import matplotlib.pyplot as plt\n",
    "import numpy as np\n",
    "from sklearn import datasets, svm, metrics\n",
    "import seaborn as sns\n",
    "from sklearn import datasets, svm, metrics\n",
    "from sklearn.model_selection import train_test_split"
   ]
  },
  {
   "cell_type": "code",
   "execution_count": 107,
   "metadata": {},
   "outputs": [],
   "source": [
    "data= pd.read_csv('input/diamonds-datamad1019/data.csv/data.csv')"
   ]
  },
  {
   "cell_type": "code",
   "execution_count": 108,
   "metadata": {},
   "outputs": [
    {
     "data": {
      "text/html": [
       "<div>\n",
       "<style scoped>\n",
       "    .dataframe tbody tr th:only-of-type {\n",
       "        vertical-align: middle;\n",
       "    }\n",
       "\n",
       "    .dataframe tbody tr th {\n",
       "        vertical-align: top;\n",
       "    }\n",
       "\n",
       "    .dataframe thead th {\n",
       "        text-align: right;\n",
       "    }\n",
       "</style>\n",
       "<table border=\"1\" class=\"dataframe\">\n",
       "  <thead>\n",
       "    <tr style=\"text-align: right;\">\n",
       "      <th></th>\n",
       "      <th>carat</th>\n",
       "      <th>cut</th>\n",
       "      <th>color</th>\n",
       "      <th>clarity</th>\n",
       "      <th>depth</th>\n",
       "      <th>table</th>\n",
       "      <th>x</th>\n",
       "      <th>y</th>\n",
       "      <th>z</th>\n",
       "      <th>price</th>\n",
       "    </tr>\n",
       "  </thead>\n",
       "  <tbody>\n",
       "    <tr>\n",
       "      <th>0</th>\n",
       "      <td>2.26</td>\n",
       "      <td>Ideal</td>\n",
       "      <td>G</td>\n",
       "      <td>SI2</td>\n",
       "      <td>61.9</td>\n",
       "      <td>57.0</td>\n",
       "      <td>8.44</td>\n",
       "      <td>8.36</td>\n",
       "      <td>5.20</td>\n",
       "      <td>12831</td>\n",
       "    </tr>\n",
       "    <tr>\n",
       "      <th>1</th>\n",
       "      <td>2.43</td>\n",
       "      <td>Very Good</td>\n",
       "      <td>H</td>\n",
       "      <td>SI2</td>\n",
       "      <td>63.2</td>\n",
       "      <td>57.0</td>\n",
       "      <td>8.56</td>\n",
       "      <td>8.50</td>\n",
       "      <td>5.39</td>\n",
       "      <td>16170</td>\n",
       "    </tr>\n",
       "    <tr>\n",
       "      <th>2</th>\n",
       "      <td>0.80</td>\n",
       "      <td>Premium</td>\n",
       "      <td>F</td>\n",
       "      <td>SI2</td>\n",
       "      <td>61.0</td>\n",
       "      <td>57.0</td>\n",
       "      <td>6.03</td>\n",
       "      <td>6.01</td>\n",
       "      <td>3.67</td>\n",
       "      <td>2797</td>\n",
       "    </tr>\n",
       "    <tr>\n",
       "      <th>3</th>\n",
       "      <td>0.40</td>\n",
       "      <td>Ideal</td>\n",
       "      <td>F</td>\n",
       "      <td>I1</td>\n",
       "      <td>63.3</td>\n",
       "      <td>60.0</td>\n",
       "      <td>4.68</td>\n",
       "      <td>4.64</td>\n",
       "      <td>2.95</td>\n",
       "      <td>630</td>\n",
       "    </tr>\n",
       "    <tr>\n",
       "      <th>4</th>\n",
       "      <td>0.31</td>\n",
       "      <td>Ideal</td>\n",
       "      <td>G</td>\n",
       "      <td>VS2</td>\n",
       "      <td>61.6</td>\n",
       "      <td>55.0</td>\n",
       "      <td>4.39</td>\n",
       "      <td>4.37</td>\n",
       "      <td>2.70</td>\n",
       "      <td>698</td>\n",
       "    </tr>\n",
       "  </tbody>\n",
       "</table>\n",
       "</div>"
      ],
      "text/plain": [
       "   carat        cut color clarity  depth  table     x     y     z  price\n",
       "0   2.26      Ideal     G     SI2   61.9   57.0  8.44  8.36  5.20  12831\n",
       "1   2.43  Very Good     H     SI2   63.2   57.0  8.56  8.50  5.39  16170\n",
       "2   0.80    Premium     F     SI2   61.0   57.0  6.03  6.01  3.67   2797\n",
       "3   0.40      Ideal     F      I1   63.3   60.0  4.68  4.64  2.95    630\n",
       "4   0.31      Ideal     G     VS2   61.6   55.0  4.39  4.37  2.70    698"
      ]
     },
     "execution_count": 108,
     "metadata": {},
     "output_type": "execute_result"
    }
   ],
   "source": [
    "data.head()"
   ]
  },
  {
   "cell_type": "code",
   "execution_count": 109,
   "metadata": {},
   "outputs": [],
   "source": [
    "# Replace values of cut\n",
    "replace_cut = {'Fair':1,'Good':2,'Very Good':3,'Premium':4,'Ideal':5}\n",
    "data.replace({\"cut\": replace_cut}, inplace= True)\n",
    "replace_color = {'J':1,'I':2,'H':3,'G':4,'F':5,'E':6,'D':7}\n",
    "data.replace({\"color\": replace_color}, inplace= True)\n",
    "replace_clarity = {'I1':1, 'SI2':2, 'SI1':3, 'VS2':4, 'VS1':5, 'VVS2':6, 'VVS1':7, 'IF':8}\n",
    "data.replace({\"clarity\": replace_clarity}, inplace= True)"
   ]
  },
  {
   "cell_type": "code",
   "execution_count": 110,
   "metadata": {},
   "outputs": [
    {
     "data": {
      "text/plain": [
       "carat      float64\n",
       "cut          int64\n",
       "color        int64\n",
       "clarity      int64\n",
       "depth      float64\n",
       "table      float64\n",
       "x          float64\n",
       "y          float64\n",
       "z          float64\n",
       "price        int64\n",
       "dtype: object"
      ]
     },
     "execution_count": 110,
     "metadata": {},
     "output_type": "execute_result"
    }
   ],
   "source": [
    "data.dtypes"
   ]
  },
  {
   "cell_type": "code",
   "execution_count": 111,
   "metadata": {},
   "outputs": [
    {
     "data": {
      "text/plain": [
       "carat      0\n",
       "cut        0\n",
       "color      0\n",
       "clarity    0\n",
       "depth      0\n",
       "table      0\n",
       "x          0\n",
       "y          0\n",
       "z          0\n",
       "price      0\n",
       "dtype: int64"
      ]
     },
     "execution_count": 111,
     "metadata": {},
     "output_type": "execute_result"
    }
   ],
   "source": [
    "data.isnull().sum()"
   ]
  },
  {
   "cell_type": "code",
   "execution_count": 112,
   "metadata": {},
   "outputs": [],
   "source": [
    "#data['price_log'] = np.log(data['price'])"
   ]
  },
  {
   "cell_type": "code",
   "execution_count": 113,
   "metadata": {},
   "outputs": [],
   "source": [
    "#data"
   ]
  },
  {
   "cell_type": "code",
   "execution_count": 114,
   "metadata": {},
   "outputs": [],
   "source": [
    "#import math\n",
    "#transf = []\n",
    "#for val in data['price_log']:\n",
    "#     transf.append(np.round(math.exp(val),2))"
   ]
  },
  {
   "cell_type": "code",
   "execution_count": 115,
   "metadata": {},
   "outputs": [
    {
     "data": {
      "text/html": [
       "<div>\n",
       "<style scoped>\n",
       "    .dataframe tbody tr th:only-of-type {\n",
       "        vertical-align: middle;\n",
       "    }\n",
       "\n",
       "    .dataframe tbody tr th {\n",
       "        vertical-align: top;\n",
       "    }\n",
       "\n",
       "    .dataframe thead th {\n",
       "        text-align: right;\n",
       "    }\n",
       "</style>\n",
       "<table border=\"1\" class=\"dataframe\">\n",
       "  <thead>\n",
       "    <tr style=\"text-align: right;\">\n",
       "      <th></th>\n",
       "      <th>carat</th>\n",
       "      <th>cut</th>\n",
       "      <th>color</th>\n",
       "      <th>clarity</th>\n",
       "      <th>depth</th>\n",
       "      <th>table</th>\n",
       "      <th>x</th>\n",
       "      <th>y</th>\n",
       "      <th>z</th>\n",
       "      <th>price</th>\n",
       "    </tr>\n",
       "  </thead>\n",
       "  <tbody>\n",
       "    <tr>\n",
       "      <th>carat</th>\n",
       "      <td>1.000000</td>\n",
       "      <td>-0.131916</td>\n",
       "      <td>-0.292759</td>\n",
       "      <td>-0.352239</td>\n",
       "      <td>0.024370</td>\n",
       "      <td>0.180861</td>\n",
       "      <td>0.975010</td>\n",
       "      <td>0.944669</td>\n",
       "      <td>0.948835</td>\n",
       "      <td>0.921898</td>\n",
       "    </tr>\n",
       "    <tr>\n",
       "      <th>cut</th>\n",
       "      <td>-0.131916</td>\n",
       "      <td>1.000000</td>\n",
       "      <td>0.021126</td>\n",
       "      <td>0.183393</td>\n",
       "      <td>-0.215829</td>\n",
       "      <td>-0.434086</td>\n",
       "      <td>-0.123010</td>\n",
       "      <td>-0.118121</td>\n",
       "      <td>-0.145905</td>\n",
       "      <td>-0.051159</td>\n",
       "    </tr>\n",
       "    <tr>\n",
       "      <th>color</th>\n",
       "      <td>-0.292759</td>\n",
       "      <td>0.021126</td>\n",
       "      <td>1.000000</td>\n",
       "      <td>-0.027759</td>\n",
       "      <td>-0.048099</td>\n",
       "      <td>-0.026999</td>\n",
       "      <td>-0.271085</td>\n",
       "      <td>-0.262272</td>\n",
       "      <td>-0.268004</td>\n",
       "      <td>-0.174816</td>\n",
       "    </tr>\n",
       "    <tr>\n",
       "      <th>clarity</th>\n",
       "      <td>-0.352239</td>\n",
       "      <td>0.183393</td>\n",
       "      <td>-0.027759</td>\n",
       "      <td>1.000000</td>\n",
       "      <td>-0.067045</td>\n",
       "      <td>-0.158803</td>\n",
       "      <td>-0.371179</td>\n",
       "      <td>-0.355052</td>\n",
       "      <td>-0.364358</td>\n",
       "      <td>-0.146224</td>\n",
       "    </tr>\n",
       "    <tr>\n",
       "      <th>depth</th>\n",
       "      <td>0.024370</td>\n",
       "      <td>-0.215829</td>\n",
       "      <td>-0.048099</td>\n",
       "      <td>-0.067045</td>\n",
       "      <td>1.000000</td>\n",
       "      <td>-0.296418</td>\n",
       "      <td>-0.028645</td>\n",
       "      <td>-0.032708</td>\n",
       "      <td>0.090617</td>\n",
       "      <td>-0.014383</td>\n",
       "    </tr>\n",
       "    <tr>\n",
       "      <th>table</th>\n",
       "      <td>0.180861</td>\n",
       "      <td>-0.434086</td>\n",
       "      <td>-0.026999</td>\n",
       "      <td>-0.158803</td>\n",
       "      <td>-0.296418</td>\n",
       "      <td>1.000000</td>\n",
       "      <td>0.195254</td>\n",
       "      <td>0.181997</td>\n",
       "      <td>0.149342</td>\n",
       "      <td>0.125521</td>\n",
       "    </tr>\n",
       "    <tr>\n",
       "      <th>x</th>\n",
       "      <td>0.975010</td>\n",
       "      <td>-0.123010</td>\n",
       "      <td>-0.271085</td>\n",
       "      <td>-0.371179</td>\n",
       "      <td>-0.028645</td>\n",
       "      <td>0.195254</td>\n",
       "      <td>1.000000</td>\n",
       "      <td>0.967161</td>\n",
       "      <td>0.966188</td>\n",
       "      <td>0.884500</td>\n",
       "    </tr>\n",
       "    <tr>\n",
       "      <th>y</th>\n",
       "      <td>0.944669</td>\n",
       "      <td>-0.118121</td>\n",
       "      <td>-0.262272</td>\n",
       "      <td>-0.355052</td>\n",
       "      <td>-0.032708</td>\n",
       "      <td>0.181997</td>\n",
       "      <td>0.967161</td>\n",
       "      <td>1.000000</td>\n",
       "      <td>0.941816</td>\n",
       "      <td>0.859138</td>\n",
       "    </tr>\n",
       "    <tr>\n",
       "      <th>z</th>\n",
       "      <td>0.948835</td>\n",
       "      <td>-0.145905</td>\n",
       "      <td>-0.268004</td>\n",
       "      <td>-0.364358</td>\n",
       "      <td>0.090617</td>\n",
       "      <td>0.149342</td>\n",
       "      <td>0.966188</td>\n",
       "      <td>0.941816</td>\n",
       "      <td>1.000000</td>\n",
       "      <td>0.857643</td>\n",
       "    </tr>\n",
       "    <tr>\n",
       "      <th>price</th>\n",
       "      <td>0.921898</td>\n",
       "      <td>-0.051159</td>\n",
       "      <td>-0.174816</td>\n",
       "      <td>-0.146224</td>\n",
       "      <td>-0.014383</td>\n",
       "      <td>0.125521</td>\n",
       "      <td>0.884500</td>\n",
       "      <td>0.859138</td>\n",
       "      <td>0.857643</td>\n",
       "      <td>1.000000</td>\n",
       "    </tr>\n",
       "  </tbody>\n",
       "</table>\n",
       "</div>"
      ],
      "text/plain": [
       "            carat       cut     color   clarity     depth     table         x  \\\n",
       "carat    1.000000 -0.131916 -0.292759 -0.352239  0.024370  0.180861  0.975010   \n",
       "cut     -0.131916  1.000000  0.021126  0.183393 -0.215829 -0.434086 -0.123010   \n",
       "color   -0.292759  0.021126  1.000000 -0.027759 -0.048099 -0.026999 -0.271085   \n",
       "clarity -0.352239  0.183393 -0.027759  1.000000 -0.067045 -0.158803 -0.371179   \n",
       "depth    0.024370 -0.215829 -0.048099 -0.067045  1.000000 -0.296418 -0.028645   \n",
       "table    0.180861 -0.434086 -0.026999 -0.158803 -0.296418  1.000000  0.195254   \n",
       "x        0.975010 -0.123010 -0.271085 -0.371179 -0.028645  0.195254  1.000000   \n",
       "y        0.944669 -0.118121 -0.262272 -0.355052 -0.032708  0.181997  0.967161   \n",
       "z        0.948835 -0.145905 -0.268004 -0.364358  0.090617  0.149342  0.966188   \n",
       "price    0.921898 -0.051159 -0.174816 -0.146224 -0.014383  0.125521  0.884500   \n",
       "\n",
       "                y         z     price  \n",
       "carat    0.944669  0.948835  0.921898  \n",
       "cut     -0.118121 -0.145905 -0.051159  \n",
       "color   -0.262272 -0.268004 -0.174816  \n",
       "clarity -0.355052 -0.364358 -0.146224  \n",
       "depth   -0.032708  0.090617 -0.014383  \n",
       "table    0.181997  0.149342  0.125521  \n",
       "x        0.967161  0.966188  0.884500  \n",
       "y        1.000000  0.941816  0.859138  \n",
       "z        0.941816  1.000000  0.857643  \n",
       "price    0.859138  0.857643  1.000000  "
      ]
     },
     "execution_count": 115,
     "metadata": {},
     "output_type": "execute_result"
    },
    {
     "data": {
      "image/png": "[encoded data removed]",
      "text/plain": [
       "<Figure size 432x288 with 2 Axes>"
      ]
     },
     "metadata": {
      "needs_background": "light"
     },
     "output_type": "display_data"
    }
   ],
   "source": [
    "# Correlation Matrix\n",
    "corr = data.corr()\n",
    "\n",
    "corr.style.background_gradient(cmap='coolwarm')\n",
    "sns.heatmap(corr, linewidths=0.5, annot=True)\n",
    "corr"
   ]
  },
  {
   "cell_type": "code",
   "execution_count": 116,
   "metadata": {},
   "outputs": [
    {
     "data": {
      "text/plain": [
       "['x', 'y', 'z']"
      ]
     },
     "execution_count": 116,
     "metadata": {},
     "output_type": "execute_result"
    }
   ],
   "source": [
    "upper = corr.where(np.triu(np.ones(corr.shape), k=1).astype(np.bool))\n",
    "to_drop = [column for column in upper.columns if any(upper[column] > 0.95)]\n",
    "to_drop"
   ]
  },
  {
   "cell_type": "code",
   "execution_count": 117,
   "metadata": {},
   "outputs": [],
   "source": [
    "data.drop(columns=['x','y','z'],axis=1, inplace= True)"
   ]
  },
  {
   "cell_type": "code",
   "execution_count": 118,
   "metadata": {},
   "outputs": [
    {
     "data": {
      "text/html": [
       "<div>\n",
       "<style scoped>\n",
       "    .dataframe tbody tr th:only-of-type {\n",
       "        vertical-align: middle;\n",
       "    }\n",
       "\n",
       "    .dataframe tbody tr th {\n",
       "        vertical-align: top;\n",
       "    }\n",
       "\n",
       "    .dataframe thead th {\n",
       "        text-align: right;\n",
       "    }\n",
       "</style>\n",
       "<table border=\"1\" class=\"dataframe\">\n",
       "  <thead>\n",
       "    <tr style=\"text-align: right;\">\n",
       "      <th></th>\n",
       "      <th>carat</th>\n",
       "      <th>cut</th>\n",
       "      <th>color</th>\n",
       "      <th>clarity</th>\n",
       "      <th>depth</th>\n",
       "      <th>table</th>\n",
       "      <th>price</th>\n",
       "    </tr>\n",
       "  </thead>\n",
       "  <tbody>\n",
       "    <tr>\n",
       "      <th>0</th>\n",
       "      <td>2.26</td>\n",
       "      <td>5</td>\n",
       "      <td>4</td>\n",
       "      <td>2</td>\n",
       "      <td>61.9</td>\n",
       "      <td>57.0</td>\n",
       "      <td>12831</td>\n",
       "    </tr>\n",
       "    <tr>\n",
       "      <th>1</th>\n",
       "      <td>2.43</td>\n",
       "      <td>3</td>\n",
       "      <td>3</td>\n",
       "      <td>2</td>\n",
       "      <td>63.2</td>\n",
       "      <td>57.0</td>\n",
       "      <td>16170</td>\n",
       "    </tr>\n",
       "    <tr>\n",
       "      <th>2</th>\n",
       "      <td>0.80</td>\n",
       "      <td>4</td>\n",
       "      <td>5</td>\n",
       "      <td>2</td>\n",
       "      <td>61.0</td>\n",
       "      <td>57.0</td>\n",
       "      <td>2797</td>\n",
       "    </tr>\n",
       "    <tr>\n",
       "      <th>3</th>\n",
       "      <td>0.40</td>\n",
       "      <td>5</td>\n",
       "      <td>5</td>\n",
       "      <td>1</td>\n",
       "      <td>63.3</td>\n",
       "      <td>60.0</td>\n",
       "      <td>630</td>\n",
       "    </tr>\n",
       "    <tr>\n",
       "      <th>4</th>\n",
       "      <td>0.31</td>\n",
       "      <td>5</td>\n",
       "      <td>4</td>\n",
       "      <td>4</td>\n",
       "      <td>61.6</td>\n",
       "      <td>55.0</td>\n",
       "      <td>698</td>\n",
       "    </tr>\n",
       "  </tbody>\n",
       "</table>\n",
       "</div>"
      ],
      "text/plain": [
       "   carat  cut  color  clarity  depth  table  price\n",
       "0   2.26    5      4        2   61.9   57.0  12831\n",
       "1   2.43    3      3        2   63.2   57.0  16170\n",
       "2   0.80    4      5        2   61.0   57.0   2797\n",
       "3   0.40    5      5        1   63.3   60.0    630\n",
       "4   0.31    5      4        4   61.6   55.0    698"
      ]
     },
     "execution_count": 118,
     "metadata": {},
     "output_type": "execute_result"
    }
   ],
   "source": [
    "data.head()"
   ]
  },
  {
   "cell_type": "code",
   "execution_count": 119,
   "metadata": {},
   "outputs": [],
   "source": [
    "# Normalizar las columnas\n",
    "features = ['carat', 'depth', 'table']\n",
    "for col in features:\n",
    "    mean = np.mean(data[col])\n",
    "    std = np.std(data[col])\n",
    "    data[col] = (data[col] - mean) / std "
   ]
  },
  {
   "cell_type": "code",
   "execution_count": null,
   "metadata": {},
   "outputs": [],
   "source": []
  },
  {
   "cell_type": "code",
   "execution_count": 120,
   "metadata": {},
   "outputs": [],
   "source": [
    "# Separar nuestra 'y'(predictor), y las features\n",
    "y = data[\"price\"]\n"
   ]
  },
  {
   "cell_type": "code",
   "execution_count": 121,
   "metadata": {},
   "outputs": [],
   "source": [
    "X = data.drop(columns=['price'])"
   ]
  },
  {
   "cell_type": "code",
   "execution_count": 122,
   "metadata": {},
   "outputs": [],
   "source": [
    "X_train, X_test, y_train, y_test = train_test_split(X,y, test_size=0.6)"
   ]
  },
  {
   "cell_type": "code",
   "execution_count": 123,
   "metadata": {},
   "outputs": [
    {
     "data": {
      "text/plain": [
       "((16182, 6), (24273, 6), (16182,), (24273,))"
      ]
     },
     "execution_count": 123,
     "metadata": {},
     "output_type": "execute_result"
    }
   ],
   "source": [
    "X_train.shape, X_test.shape, y_train.shape, y_test.shape"
   ]
  },
  {
   "cell_type": "code",
   "execution_count": 124,
   "metadata": {},
   "outputs": [],
   "source": [
    "# Importar todos los modelos\n",
    "from sklearn.svm import LinearSVC\n",
    "from sklearn.linear_model import LinearRegression\n",
    "from sklearn.model_selection import GridSearchCV, cross_val_score, train_test_split\n",
    "from sklearn.linear_model import Ridge\n",
    "import sklearn.ensemble as skens\n",
    "from sklearn.metrics import accuracy_score\n",
    "from sklearn.ensemble import RandomForestRegressor"
   ]
  },
  {
   "cell_type": "code",
   "execution_count": 125,
   "metadata": {},
   "outputs": [],
   "source": [
    "from sklearn.metrics import accuracy_score\n",
    "from sklearn.metrics import precision_score\n",
    "from sklearn.metrics import recall_score\n",
    "from IPython.core.display import display, HTML\n",
    "\n",
    "\n"
   ]
  },
  {
   "cell_type": "code",
   "execution_count": 126,
   "metadata": {},
   "outputs": [],
   "source": [
    "# Aquí le paso el modelo Random Forest\n",
    "models={'model' : skens.RandomForestRegressor(n_estimators=250,max_depth=4)}\n",
    "\n",
    "for modelName, model in models.items():\n",
    "    rf = skens.RandomForestRegressor().fit(X_train, y_train)"
   ]
  },
  {
   "cell_type": "code",
   "execution_count": 94,
   "metadata": {},
   "outputs": [],
   "source": [
    "y_pred2 = rf.predict(X_test)"
   ]
  },
  {
   "cell_type": "code",
   "execution_count": 54,
   "metadata": {},
   "outputs": [
    {
     "data": {
      "text/html": [
       "<div>\n",
       "<style scoped>\n",
       "    .dataframe tbody tr th:only-of-type {\n",
       "        vertical-align: middle;\n",
       "    }\n",
       "\n",
       "    .dataframe tbody tr th {\n",
       "        vertical-align: top;\n",
       "    }\n",
       "\n",
       "    .dataframe thead th {\n",
       "        text-align: right;\n",
       "    }\n",
       "</style>\n",
       "<table border=\"1\" class=\"dataframe\">\n",
       "  <thead>\n",
       "    <tr style=\"text-align: right;\">\n",
       "      <th></th>\n",
       "      <th>rforest</th>\n",
       "      <th>gt</th>\n",
       "    </tr>\n",
       "  </thead>\n",
       "  <tbody>\n",
       "    <tr>\n",
       "      <th>21631</th>\n",
       "      <td>645.230000</td>\n",
       "      <td>526</td>\n",
       "    </tr>\n",
       "    <tr>\n",
       "      <th>19069</th>\n",
       "      <td>14867.820000</td>\n",
       "      <td>13263</td>\n",
       "    </tr>\n",
       "    <tr>\n",
       "      <th>13177</th>\n",
       "      <td>14238.950000</td>\n",
       "      <td>13713</td>\n",
       "    </tr>\n",
       "    <tr>\n",
       "      <th>27662</th>\n",
       "      <td>6978.420000</td>\n",
       "      <td>6720</td>\n",
       "    </tr>\n",
       "    <tr>\n",
       "      <th>30095</th>\n",
       "      <td>8507.090000</td>\n",
       "      <td>9874</td>\n",
       "    </tr>\n",
       "    <tr>\n",
       "      <th>...</th>\n",
       "      <td>...</td>\n",
       "      <td>...</td>\n",
       "    </tr>\n",
       "    <tr>\n",
       "      <th>18192</th>\n",
       "      <td>1035.780000</td>\n",
       "      <td>1076</td>\n",
       "    </tr>\n",
       "    <tr>\n",
       "      <th>36082</th>\n",
       "      <td>4209.453333</td>\n",
       "      <td>4744</td>\n",
       "    </tr>\n",
       "    <tr>\n",
       "      <th>12111</th>\n",
       "      <td>4078.775000</td>\n",
       "      <td>4113</td>\n",
       "    </tr>\n",
       "    <tr>\n",
       "      <th>39473</th>\n",
       "      <td>1212.100000</td>\n",
       "      <td>1168</td>\n",
       "    </tr>\n",
       "    <tr>\n",
       "      <th>7451</th>\n",
       "      <td>952.526667</td>\n",
       "      <td>1008</td>\n",
       "    </tr>\n",
       "  </tbody>\n",
       "</table>\n",
       "<p>24273 rows × 2 columns</p>\n",
       "</div>"
      ],
      "text/plain": [
       "            rforest     gt\n",
       "21631    645.230000    526\n",
       "19069  14867.820000  13263\n",
       "13177  14238.950000  13713\n",
       "27662   6978.420000   6720\n",
       "30095   8507.090000   9874\n",
       "...             ...    ...\n",
       "18192   1035.780000   1076\n",
       "36082   4209.453333   4744\n",
       "12111   4078.775000   4113\n",
       "39473   1212.100000   1168\n",
       "7451     952.526667   1008\n",
       "\n",
       "[24273 rows x 2 columns]"
      ]
     },
     "execution_count": 54,
     "metadata": {},
     "output_type": "execute_result"
    }
   ],
   "source": [
    "df1 = pd.DataFrame({'rforest':y_pred2 , 'gt': y_test})\n",
    "df1"
   ]
  },
  {
   "cell_type": "code",
   "execution_count": 55,
   "metadata": {},
   "outputs": [
    {
     "name": "stdout",
     "output_type": "stream",
     "text": [
      "0.9969707139932279\n"
     ]
    }
   ],
   "source": [
    "print(rf.score(X_train, y_train))\n",
    "\n",
    "\n",
    "#from sklearn.metrics import mean_squared_error\n",
    "\n",
    "#from math import sqrt\n",
    "#y_test=np.exp(y_test)\n",
    "#y_pred2 = np.exp(y_pred2)\n",
    "#rmse = sqrt(mean_squared_error(y_test, y_pred2))\n",
    "\n",
    "#rmse"
   ]
  },
  {
   "cell_type": "code",
   "execution_count": null,
   "metadata": {},
   "outputs": [],
   "source": []
  },
  {
   "cell_type": "code",
   "execution_count": 56,
   "metadata": {},
   "outputs": [],
   "source": [
    "# Aquí le paso el modelo GradientBoosting y creo un df \n",
    "models={'model' : skens.GradientBoostingRegressor(n_estimators=100)}\n",
    "for modelName, model in models.items():\n",
    "    clf = model.fit(X_train, y_train)\n",
    "clf = model.fit(X_train, y_train)\n",
    "y_pred = clf.predict(X_test)"
   ]
  },
  {
   "cell_type": "code",
   "execution_count": 57,
   "metadata": {},
   "outputs": [
    {
     "name": "stdout",
     "output_type": "stream",
     "text": [
      "0.9776567467561947\n"
     ]
    }
   ],
   "source": [
    "print(clf.score(X_train, y_train))\n"
   ]
  },
  {
   "cell_type": "code",
   "execution_count": 58,
   "metadata": {},
   "outputs": [
    {
     "data": {
      "text/html": [
       "<div>\n",
       "<style scoped>\n",
       "    .dataframe tbody tr th:only-of-type {\n",
       "        vertical-align: middle;\n",
       "    }\n",
       "\n",
       "    .dataframe tbody tr th {\n",
       "        vertical-align: top;\n",
       "    }\n",
       "\n",
       "    .dataframe thead th {\n",
       "        text-align: right;\n",
       "    }\n",
       "</style>\n",
       "<table border=\"1\" class=\"dataframe\">\n",
       "  <thead>\n",
       "    <tr style=\"text-align: right;\">\n",
       "      <th></th>\n",
       "      <th>GradientBoost</th>\n",
       "      <th>gt</th>\n",
       "    </tr>\n",
       "  </thead>\n",
       "  <tbody>\n",
       "    <tr>\n",
       "      <th>0</th>\n",
       "      <td>691.605893</td>\n",
       "      <td>526</td>\n",
       "    </tr>\n",
       "    <tr>\n",
       "      <th>1</th>\n",
       "      <td>15790.452234</td>\n",
       "      <td>13263</td>\n",
       "    </tr>\n",
       "    <tr>\n",
       "      <th>2</th>\n",
       "      <td>13339.050167</td>\n",
       "      <td>13713</td>\n",
       "    </tr>\n",
       "    <tr>\n",
       "      <th>3</th>\n",
       "      <td>6659.597355</td>\n",
       "      <td>6720</td>\n",
       "    </tr>\n",
       "    <tr>\n",
       "      <th>4</th>\n",
       "      <td>9249.467976</td>\n",
       "      <td>9874</td>\n",
       "    </tr>\n",
       "    <tr>\n",
       "      <th>...</th>\n",
       "      <td>...</td>\n",
       "      <td>...</td>\n",
       "    </tr>\n",
       "    <tr>\n",
       "      <th>24268</th>\n",
       "      <td>1088.285169</td>\n",
       "      <td>1076</td>\n",
       "    </tr>\n",
       "    <tr>\n",
       "      <th>24269</th>\n",
       "      <td>4151.186995</td>\n",
       "      <td>4744</td>\n",
       "    </tr>\n",
       "    <tr>\n",
       "      <th>24270</th>\n",
       "      <td>3669.774056</td>\n",
       "      <td>4113</td>\n",
       "    </tr>\n",
       "    <tr>\n",
       "      <th>24271</th>\n",
       "      <td>1248.611008</td>\n",
       "      <td>1168</td>\n",
       "    </tr>\n",
       "    <tr>\n",
       "      <th>24272</th>\n",
       "      <td>1045.735221</td>\n",
       "      <td>1008</td>\n",
       "    </tr>\n",
       "  </tbody>\n",
       "</table>\n",
       "<p>24273 rows × 2 columns</p>\n",
       "</div>"
      ],
      "text/plain": [
       "       GradientBoost     gt\n",
       "0         691.605893    526\n",
       "1       15790.452234  13263\n",
       "2       13339.050167  13713\n",
       "3        6659.597355   6720\n",
       "4        9249.467976   9874\n",
       "...              ...    ...\n",
       "24268    1088.285169   1076\n",
       "24269    4151.186995   4744\n",
       "24270    3669.774056   4113\n",
       "24271    1248.611008   1168\n",
       "24272    1045.735221   1008\n",
       "\n",
       "[24273 rows x 2 columns]"
      ]
     },
     "execution_count": 58,
     "metadata": {},
     "output_type": "execute_result"
    }
   ],
   "source": [
    "df2 = pd.DataFrame({'GradientBoost':y_pred , 'gt':y_test.reset_index(drop=True)})\n",
    "df2"
   ]
  },
  {
   "cell_type": "code",
   "execution_count": 59,
   "metadata": {},
   "outputs": [
    {
     "data": {
      "text/plain": [
       "0.9776567467561947"
      ]
     },
     "execution_count": 59,
     "metadata": {},
     "output_type": "execute_result"
    }
   ],
   "source": [
    "clf.score(X_train, y_train)"
   ]
  },
  {
   "cell_type": "code",
   "execution_count": 130,
   "metadata": {},
   "outputs": [
    {
     "data": {
      "text/plain": [
       "0.9874110090804707"
      ]
     },
     "execution_count": 130,
     "metadata": {},
     "output_type": "execute_result"
    }
   ],
   "source": [
    "from sklearn.experimental import enable_hist_gradient_boosting \n",
    "from sklearn.ensemble import HistGradientBoostingRegressor\n",
    "models={'model' : HistGradientBoostingRegressor()}\n",
    "for modelName, model in models.items():\n",
    "    est = model.fit(X_train, y_train)\n",
    "hist = est.fit(X_train, y_train)\n",
    "y_pred3 = hist.predict(X_test)\n",
    "hist.score(X_train, y_train)"
   ]
  },
  {
   "cell_type": "code",
   "execution_count": 131,
   "metadata": {},
   "outputs": [
    {
     "data": {
      "text/html": [
       "<div>\n",
       "<style scoped>\n",
       "    .dataframe tbody tr th:only-of-type {\n",
       "        vertical-align: middle;\n",
       "    }\n",
       "\n",
       "    .dataframe tbody tr th {\n",
       "        vertical-align: top;\n",
       "    }\n",
       "\n",
       "    .dataframe thead th {\n",
       "        text-align: right;\n",
       "    }\n",
       "</style>\n",
       "<table border=\"1\" class=\"dataframe\">\n",
       "  <thead>\n",
       "    <tr style=\"text-align: right;\">\n",
       "      <th></th>\n",
       "      <th>HistGradientBoost</th>\n",
       "      <th>gt</th>\n",
       "    </tr>\n",
       "  </thead>\n",
       "  <tbody>\n",
       "    <tr>\n",
       "      <th>37069</th>\n",
       "      <td>3840.346906</td>\n",
       "      <td>3677</td>\n",
       "    </tr>\n",
       "    <tr>\n",
       "      <th>21040</th>\n",
       "      <td>5839.570613</td>\n",
       "      <td>6021</td>\n",
       "    </tr>\n",
       "    <tr>\n",
       "      <th>16921</th>\n",
       "      <td>1694.173212</td>\n",
       "      <td>1781</td>\n",
       "    </tr>\n",
       "    <tr>\n",
       "      <th>3978</th>\n",
       "      <td>5873.311133</td>\n",
       "      <td>5544</td>\n",
       "    </tr>\n",
       "    <tr>\n",
       "      <th>23192</th>\n",
       "      <td>5308.236531</td>\n",
       "      <td>5125</td>\n",
       "    </tr>\n",
       "    <tr>\n",
       "      <th>...</th>\n",
       "      <td>...</td>\n",
       "      <td>...</td>\n",
       "    </tr>\n",
       "    <tr>\n",
       "      <th>20430</th>\n",
       "      <td>1737.849397</td>\n",
       "      <td>1814</td>\n",
       "    </tr>\n",
       "    <tr>\n",
       "      <th>21312</th>\n",
       "      <td>1900.354959</td>\n",
       "      <td>1847</td>\n",
       "    </tr>\n",
       "    <tr>\n",
       "      <th>12061</th>\n",
       "      <td>1449.319627</td>\n",
       "      <td>1691</td>\n",
       "    </tr>\n",
       "    <tr>\n",
       "      <th>7922</th>\n",
       "      <td>691.966953</td>\n",
       "      <td>622</td>\n",
       "    </tr>\n",
       "    <tr>\n",
       "      <th>24024</th>\n",
       "      <td>1873.613587</td>\n",
       "      <td>1892</td>\n",
       "    </tr>\n",
       "  </tbody>\n",
       "</table>\n",
       "<p>24273 rows × 2 columns</p>\n",
       "</div>"
      ],
      "text/plain": [
       "       HistGradientBoost    gt\n",
       "37069        3840.346906  3677\n",
       "21040        5839.570613  6021\n",
       "16921        1694.173212  1781\n",
       "3978         5873.311133  5544\n",
       "23192        5308.236531  5125\n",
       "...                  ...   ...\n",
       "20430        1737.849397  1814\n",
       "21312        1900.354959  1847\n",
       "12061        1449.319627  1691\n",
       "7922          691.966953   622\n",
       "24024        1873.613587  1892\n",
       "\n",
       "[24273 rows x 2 columns]"
      ]
     },
     "execution_count": 131,
     "metadata": {},
     "output_type": "execute_result"
    }
   ],
   "source": [
    "df3 = pd.DataFrame({'HistGradientBoost':y_pred3 , 'gt':y_test})\n",
    "df3"
   ]
  },
  {
   "cell_type": "code",
   "execution_count": 49,
   "metadata": {},
   "outputs": [],
   "source": [
    "\n",
    "#y_pred3 = np.exp(y_pred3)\n"
   ]
  },
  {
   "cell_type": "markdown",
   "metadata": {},
   "source": [
    "# TEST RANDOM FOREST"
   ]
  },
  {
   "cell_type": "code",
   "execution_count": 132,
   "metadata": {},
   "outputs": [],
   "source": [
    "data= pd.read_csv('input/diamonds-datamad1019/test.csv')"
   ]
  },
  {
   "cell_type": "code",
   "execution_count": 133,
   "metadata": {},
   "outputs": [
    {
     "data": {
      "text/html": [
       "<div>\n",
       "<style scoped>\n",
       "    .dataframe tbody tr th:only-of-type {\n",
       "        vertical-align: middle;\n",
       "    }\n",
       "\n",
       "    .dataframe tbody tr th {\n",
       "        vertical-align: top;\n",
       "    }\n",
       "\n",
       "    .dataframe thead th {\n",
       "        text-align: right;\n",
       "    }\n",
       "</style>\n",
       "<table border=\"1\" class=\"dataframe\">\n",
       "  <thead>\n",
       "    <tr style=\"text-align: right;\">\n",
       "      <th></th>\n",
       "      <th>id</th>\n",
       "      <th>carat</th>\n",
       "      <th>cut</th>\n",
       "      <th>color</th>\n",
       "      <th>clarity</th>\n",
       "      <th>depth</th>\n",
       "      <th>table</th>\n",
       "      <th>x</th>\n",
       "      <th>y</th>\n",
       "      <th>z</th>\n",
       "    </tr>\n",
       "  </thead>\n",
       "  <tbody>\n",
       "    <tr>\n",
       "      <th>0</th>\n",
       "      <td>0</td>\n",
       "      <td>0.56</td>\n",
       "      <td>Ideal</td>\n",
       "      <td>I</td>\n",
       "      <td>VS2</td>\n",
       "      <td>62.1</td>\n",
       "      <td>54.0</td>\n",
       "      <td>5.30</td>\n",
       "      <td>5.33</td>\n",
       "      <td>3.30</td>\n",
       "    </tr>\n",
       "    <tr>\n",
       "      <th>1</th>\n",
       "      <td>1</td>\n",
       "      <td>1.05</td>\n",
       "      <td>Ideal</td>\n",
       "      <td>G</td>\n",
       "      <td>VS2</td>\n",
       "      <td>61.9</td>\n",
       "      <td>56.0</td>\n",
       "      <td>6.56</td>\n",
       "      <td>6.52</td>\n",
       "      <td>4.05</td>\n",
       "    </tr>\n",
       "    <tr>\n",
       "      <th>2</th>\n",
       "      <td>2</td>\n",
       "      <td>0.50</td>\n",
       "      <td>Premium</td>\n",
       "      <td>E</td>\n",
       "      <td>VS2</td>\n",
       "      <td>61.5</td>\n",
       "      <td>56.0</td>\n",
       "      <td>5.11</td>\n",
       "      <td>5.07</td>\n",
       "      <td>3.13</td>\n",
       "    </tr>\n",
       "    <tr>\n",
       "      <th>3</th>\n",
       "      <td>3</td>\n",
       "      <td>0.80</td>\n",
       "      <td>Ideal</td>\n",
       "      <td>F</td>\n",
       "      <td>VS1</td>\n",
       "      <td>62.8</td>\n",
       "      <td>56.0</td>\n",
       "      <td>5.91</td>\n",
       "      <td>5.96</td>\n",
       "      <td>3.73</td>\n",
       "    </tr>\n",
       "    <tr>\n",
       "      <th>4</th>\n",
       "      <td>4</td>\n",
       "      <td>0.54</td>\n",
       "      <td>Ideal</td>\n",
       "      <td>G</td>\n",
       "      <td>VS1</td>\n",
       "      <td>61.4</td>\n",
       "      <td>57.0</td>\n",
       "      <td>5.23</td>\n",
       "      <td>5.20</td>\n",
       "      <td>3.20</td>\n",
       "    </tr>\n",
       "    <tr>\n",
       "      <th>...</th>\n",
       "      <td>...</td>\n",
       "      <td>...</td>\n",
       "      <td>...</td>\n",
       "      <td>...</td>\n",
       "      <td>...</td>\n",
       "      <td>...</td>\n",
       "      <td>...</td>\n",
       "      <td>...</td>\n",
       "      <td>...</td>\n",
       "      <td>...</td>\n",
       "    </tr>\n",
       "    <tr>\n",
       "      <th>13480</th>\n",
       "      <td>13480</td>\n",
       "      <td>0.70</td>\n",
       "      <td>Premium</td>\n",
       "      <td>H</td>\n",
       "      <td>SI1</td>\n",
       "      <td>59.0</td>\n",
       "      <td>60.0</td>\n",
       "      <td>5.86</td>\n",
       "      <td>5.81</td>\n",
       "      <td>3.44</td>\n",
       "    </tr>\n",
       "    <tr>\n",
       "      <th>13481</th>\n",
       "      <td>13481</td>\n",
       "      <td>0.55</td>\n",
       "      <td>Ideal</td>\n",
       "      <td>G</td>\n",
       "      <td>VVS2</td>\n",
       "      <td>62.3</td>\n",
       "      <td>53.0</td>\n",
       "      <td>5.27</td>\n",
       "      <td>5.29</td>\n",
       "      <td>3.29</td>\n",
       "    </tr>\n",
       "    <tr>\n",
       "      <th>13482</th>\n",
       "      <td>13482</td>\n",
       "      <td>1.54</td>\n",
       "      <td>Ideal</td>\n",
       "      <td>G</td>\n",
       "      <td>SI1</td>\n",
       "      <td>61.5</td>\n",
       "      <td>55.0</td>\n",
       "      <td>7.40</td>\n",
       "      <td>7.45</td>\n",
       "      <td>4.57</td>\n",
       "    </tr>\n",
       "    <tr>\n",
       "      <th>13483</th>\n",
       "      <td>13483</td>\n",
       "      <td>0.30</td>\n",
       "      <td>Premium</td>\n",
       "      <td>G</td>\n",
       "      <td>SI2</td>\n",
       "      <td>62.7</td>\n",
       "      <td>55.0</td>\n",
       "      <td>4.29</td>\n",
       "      <td>4.26</td>\n",
       "      <td>2.68</td>\n",
       "    </tr>\n",
       "    <tr>\n",
       "      <th>13484</th>\n",
       "      <td>13484</td>\n",
       "      <td>0.42</td>\n",
       "      <td>Ideal</td>\n",
       "      <td>E</td>\n",
       "      <td>VVS2</td>\n",
       "      <td>61.3</td>\n",
       "      <td>56.0</td>\n",
       "      <td>4.85</td>\n",
       "      <td>4.81</td>\n",
       "      <td>2.96</td>\n",
       "    </tr>\n",
       "  </tbody>\n",
       "</table>\n",
       "<p>13485 rows × 10 columns</p>\n",
       "</div>"
      ],
      "text/plain": [
       "          id  carat      cut color clarity  depth  table     x     y     z\n",
       "0          0   0.56    Ideal     I     VS2   62.1   54.0  5.30  5.33  3.30\n",
       "1          1   1.05    Ideal     G     VS2   61.9   56.0  6.56  6.52  4.05\n",
       "2          2   0.50  Premium     E     VS2   61.5   56.0  5.11  5.07  3.13\n",
       "3          3   0.80    Ideal     F     VS1   62.8   56.0  5.91  5.96  3.73\n",
       "4          4   0.54    Ideal     G     VS1   61.4   57.0  5.23  5.20  3.20\n",
       "...      ...    ...      ...   ...     ...    ...    ...   ...   ...   ...\n",
       "13480  13480   0.70  Premium     H     SI1   59.0   60.0  5.86  5.81  3.44\n",
       "13481  13481   0.55    Ideal     G    VVS2   62.3   53.0  5.27  5.29  3.29\n",
       "13482  13482   1.54    Ideal     G     SI1   61.5   55.0  7.40  7.45  4.57\n",
       "13483  13483   0.30  Premium     G     SI2   62.7   55.0  4.29  4.26  2.68\n",
       "13484  13484   0.42    Ideal     E    VVS2   61.3   56.0  4.85  4.81  2.96\n",
       "\n",
       "[13485 rows x 10 columns]"
      ]
     },
     "execution_count": 133,
     "metadata": {},
     "output_type": "execute_result"
    }
   ],
   "source": [
    "data"
   ]
  },
  {
   "cell_type": "code",
   "execution_count": 134,
   "metadata": {},
   "outputs": [],
   "source": [
    "replace_cut = {'Fair':1,'Good':2,'Very Good':3,'Premium':4,'Ideal':5}\n",
    "data.replace({\"cut\": replace_cut}, inplace= True)\n",
    "replace_color = {'J':1,'I':2,'H':3,'G':4,'F':5,'E':6,'D':7}\n",
    "data.replace({\"color\": replace_color}, inplace= True)\n",
    "replace_clarity = {'I1':1, 'SI2':2, 'SI1':3, 'VS2':4, 'VS1':5, 'VVS2':6, 'VVS1':7, 'IF':8}\n",
    "data.replace({\"clarity\": replace_clarity}, inplace= True)"
   ]
  },
  {
   "cell_type": "code",
   "execution_count": 135,
   "metadata": {},
   "outputs": [
    {
     "data": {
      "text/plain": [
       "<matplotlib.axes._subplots.AxesSubplot at 0x7f54bcb6d390>"
      ]
     },
     "execution_count": 135,
     "metadata": {},
     "output_type": "execute_result"
    },
    {
     "data": {
      "image/png": "[encoded data removed]",
      "text/plain": [
       "<Figure size 432x288 with 2 Axes>"
      ]
     },
     "metadata": {
      "needs_background": "light"
     },
     "output_type": "display_data"
    }
   ],
   "source": [
    "corr = data.corr()\n",
    "\n",
    "corr.style.background_gradient(cmap='coolwarm')\n",
    "sns.heatmap(corr, linewidths=0.5, annot=True)"
   ]
  },
  {
   "cell_type": "code",
   "execution_count": 136,
   "metadata": {},
   "outputs": [
    {
     "data": {
      "text/plain": [
       "['x', 'y', 'z']"
      ]
     },
     "execution_count": 136,
     "metadata": {},
     "output_type": "execute_result"
    }
   ],
   "source": [
    "upper = corr.where(np.triu(np.ones(corr.shape), k=1).astype(np.bool))\n",
    "to_drop = [column for column in upper.columns if any(upper[column] > 0.95)]\n",
    "to_drop"
   ]
  },
  {
   "cell_type": "code",
   "execution_count": 137,
   "metadata": {},
   "outputs": [],
   "source": [
    "data.drop(to_drop,axis=1, inplace= True)"
   ]
  },
  {
   "cell_type": "code",
   "execution_count": 138,
   "metadata": {},
   "outputs": [],
   "source": [
    "features = ['carat', 'depth', 'table']\n",
    "for col in features:\n",
    "    mean = np.mean(data[col])\n",
    "    std = np.std(data[col])\n",
    "    data[col] = (data[col] - mean) / std "
   ]
  },
  {
   "cell_type": "code",
   "execution_count": 70,
   "metadata": {},
   "outputs": [
    {
     "data": {
      "text/html": [
       "<div>\n",
       "<style scoped>\n",
       "    .dataframe tbody tr th:only-of-type {\n",
       "        vertical-align: middle;\n",
       "    }\n",
       "\n",
       "    .dataframe tbody tr th {\n",
       "        vertical-align: top;\n",
       "    }\n",
       "\n",
       "    .dataframe thead th {\n",
       "        text-align: right;\n",
       "    }\n",
       "</style>\n",
       "<table border=\"1\" class=\"dataframe\">\n",
       "  <thead>\n",
       "    <tr style=\"text-align: right;\">\n",
       "      <th></th>\n",
       "      <th>id</th>\n",
       "      <th>price</th>\n",
       "    </tr>\n",
       "  </thead>\n",
       "  <tbody>\n",
       "    <tr>\n",
       "      <th>0</th>\n",
       "      <td>0</td>\n",
       "      <td>1298.480000</td>\n",
       "    </tr>\n",
       "    <tr>\n",
       "      <th>1</th>\n",
       "      <td>1</td>\n",
       "      <td>6552.653333</td>\n",
       "    </tr>\n",
       "    <tr>\n",
       "      <th>2</th>\n",
       "      <td>2</td>\n",
       "      <td>1642.947500</td>\n",
       "    </tr>\n",
       "    <tr>\n",
       "      <th>3</th>\n",
       "      <td>3</td>\n",
       "      <td>3866.737000</td>\n",
       "    </tr>\n",
       "    <tr>\n",
       "      <th>4</th>\n",
       "      <td>4</td>\n",
       "      <td>1700.270000</td>\n",
       "    </tr>\n",
       "  </tbody>\n",
       "</table>\n",
       "</div>"
      ],
      "text/plain": [
       "   id        price\n",
       "0   0  1298.480000\n",
       "1   1  6552.653333\n",
       "2   2  1642.947500\n",
       "3   3  3866.737000\n",
       "4   4  1700.270000"
      ]
     },
     "execution_count": 70,
     "metadata": {},
     "output_type": "execute_result"
    }
   ],
   "source": [
    "prueba1 = {modelName:rf.predict(data[[\"carat\", \"cut\", \"color\", \"clarity\", \"depth\", \"table\"]]) for modelName, model in models.items()}\n",
    "\n",
    "testdf1 = pd.DataFrame(prueba1)\n",
    "\n",
    "testdf1['id']=data['id']\n",
    "\n",
    "\n",
    "new = testdf1[['id','model']]\n",
    "\n",
    "new.rename(columns={\"model\": \"price\"}, inplace=True)\n",
    "\n",
    "new.head()\n",
    "\n"
   ]
  },
  {
   "cell_type": "code",
   "execution_count": 37,
   "metadata": {},
   "outputs": [],
   "source": [
    "#new['price']= np.exp(new['price'])"
   ]
  },
  {
   "cell_type": "code",
   "execution_count": 38,
   "metadata": {},
   "outputs": [
    {
     "data": {
      "text/html": [
       "<div>\n",
       "<style scoped>\n",
       "    .dataframe tbody tr th:only-of-type {\n",
       "        vertical-align: middle;\n",
       "    }\n",
       "\n",
       "    .dataframe tbody tr th {\n",
       "        vertical-align: top;\n",
       "    }\n",
       "\n",
       "    .dataframe thead th {\n",
       "        text-align: right;\n",
       "    }\n",
       "</style>\n",
       "<table border=\"1\" class=\"dataframe\">\n",
       "  <thead>\n",
       "    <tr style=\"text-align: right;\">\n",
       "      <th></th>\n",
       "      <th>id</th>\n",
       "      <th>price</th>\n",
       "    </tr>\n",
       "  </thead>\n",
       "  <tbody>\n",
       "    <tr>\n",
       "      <th>0</th>\n",
       "      <td>0</td>\n",
       "      <td>1284.466225</td>\n",
       "    </tr>\n",
       "    <tr>\n",
       "      <th>1</th>\n",
       "      <td>1</td>\n",
       "      <td>6681.768025</td>\n",
       "    </tr>\n",
       "    <tr>\n",
       "      <th>2</th>\n",
       "      <td>2</td>\n",
       "      <td>1697.741009</td>\n",
       "    </tr>\n",
       "    <tr>\n",
       "      <th>3</th>\n",
       "      <td>3</td>\n",
       "      <td>3804.033475</td>\n",
       "    </tr>\n",
       "    <tr>\n",
       "      <th>4</th>\n",
       "      <td>4</td>\n",
       "      <td>1779.909160</td>\n",
       "    </tr>\n",
       "  </tbody>\n",
       "</table>\n",
       "</div>"
      ],
      "text/plain": [
       "   id        price\n",
       "0   0  1284.466225\n",
       "1   1  6681.768025\n",
       "2   2  1697.741009\n",
       "3   3  3804.033475\n",
       "4   4  1779.909160"
      ]
     },
     "execution_count": 38,
     "metadata": {},
     "output_type": "execute_result"
    }
   ],
   "source": [
    "#new.head()"
   ]
  },
  {
   "cell_type": "code",
   "execution_count": 71,
   "metadata": {},
   "outputs": [],
   "source": [
    "new.to_csv('output/pruebadiamonds7.csv', index=False)"
   ]
  },
  {
   "cell_type": "markdown",
   "metadata": {},
   "source": [
    "# TEST2 GRADIENT BOOSTING"
   ]
  },
  {
   "cell_type": "code",
   "execution_count": 410,
   "metadata": {},
   "outputs": [],
   "source": [
    "data= pd.read_csv('input/diamonds-datamad1019/test.csv')"
   ]
  },
  {
   "cell_type": "code",
   "execution_count": 411,
   "metadata": {},
   "outputs": [],
   "source": [
    "replace_cut = {'Fair':1,'Good':2,'Very Good':3,'Premium':4,'Ideal':5}\n",
    "data.replace({\"cut\": replace_cut}, inplace= True)\n",
    "replace_color = {'J':1,'I':2,'H':3,'G':4,'F':5,'E':6,'D':7}\n",
    "data.replace({\"color\": replace_color}, inplace= True)\n",
    "replace_clarity = {'I1':1, 'SI2':2, 'SI1':3, 'VS2':4, 'VS1':5, 'VVS2':6, 'VVS1':7, 'IF':8}\n",
    "data.replace({\"clarity\": replace_clarity}, inplace= True)"
   ]
  },
  {
   "cell_type": "code",
   "execution_count": null,
   "metadata": {},
   "outputs": [],
   "source": []
  },
  {
   "cell_type": "code",
   "execution_count": 412,
   "metadata": {},
   "outputs": [
    {
     "data": {
      "text/plain": [
       "<matplotlib.axes._subplots.AxesSubplot at 0x7f04f3740b90>"
      ]
     },
     "execution_count": 412,
     "metadata": {},
     "output_type": "execute_result"
    },
    {
     "data": {
      "image/png": "[encoded data removed]",
      "text/plain": [
       "<Figure size 432x288 with 2 Axes>"
      ]
     },
     "metadata": {
      "needs_background": "light"
     },
     "output_type": "display_data"
    }
   ],
   "source": [
    "corr = data.corr()\n",
    "\n",
    "corr.style.background_gradient(cmap='coolwarm')\n",
    "sns.heatmap(corr, linewidths=0.5, annot=True)"
   ]
  },
  {
   "cell_type": "code",
   "execution_count": 413,
   "metadata": {},
   "outputs": [
    {
     "data": {
      "text/plain": [
       "['x', 'y', 'z']"
      ]
     },
     "execution_count": 413,
     "metadata": {},
     "output_type": "execute_result"
    }
   ],
   "source": [
    "upper = corr.where(np.triu(np.ones(corr.shape), k=1).astype(np.bool))\n",
    "to_drop = [column for column in upper.columns if any(upper[column] > 0.95)]\n",
    "to_drop"
   ]
  },
  {
   "cell_type": "code",
   "execution_count": 414,
   "metadata": {},
   "outputs": [],
   "source": [
    "data.drop(to_drop,axis=1, inplace= True)"
   ]
  },
  {
   "cell_type": "code",
   "execution_count": 415,
   "metadata": {},
   "outputs": [],
   "source": [
    "features = ['carat', 'depth', 'table']\n",
    "for col in features:\n",
    "    mean = np.mean(data[col])\n",
    "    std = np.std(data[col])\n",
    "    data[col] = (data[col] - mean) / std "
   ]
  },
  {
   "cell_type": "markdown",
   "metadata": {},
   "source": [
    "# TEST HIST "
   ]
  },
  {
   "cell_type": "code",
   "execution_count": 139,
   "metadata": {},
   "outputs": [
    {
     "data": {
      "text/html": [
       "<div>\n",
       "<style scoped>\n",
       "    .dataframe tbody tr th:only-of-type {\n",
       "        vertical-align: middle;\n",
       "    }\n",
       "\n",
       "    .dataframe tbody tr th {\n",
       "        vertical-align: top;\n",
       "    }\n",
       "\n",
       "    .dataframe thead th {\n",
       "        text-align: right;\n",
       "    }\n",
       "</style>\n",
       "<table border=\"1\" class=\"dataframe\">\n",
       "  <thead>\n",
       "    <tr style=\"text-align: right;\">\n",
       "      <th></th>\n",
       "      <th>id</th>\n",
       "      <th>price</th>\n",
       "    </tr>\n",
       "  </thead>\n",
       "  <tbody>\n",
       "    <tr>\n",
       "      <th>0</th>\n",
       "      <td>0</td>\n",
       "      <td>1410.503595</td>\n",
       "    </tr>\n",
       "    <tr>\n",
       "      <th>1</th>\n",
       "      <td>1</td>\n",
       "      <td>6719.635665</td>\n",
       "    </tr>\n",
       "    <tr>\n",
       "      <th>2</th>\n",
       "      <td>2</td>\n",
       "      <td>1630.449311</td>\n",
       "    </tr>\n",
       "    <tr>\n",
       "      <th>3</th>\n",
       "      <td>3</td>\n",
       "      <td>3908.465900</td>\n",
       "    </tr>\n",
       "    <tr>\n",
       "      <th>4</th>\n",
       "      <td>4</td>\n",
       "      <td>1757.295149</td>\n",
       "    </tr>\n",
       "  </tbody>\n",
       "</table>\n",
       "</div>"
      ],
      "text/plain": [
       "   id        price\n",
       "0   0  1410.503595\n",
       "1   1  6719.635665\n",
       "2   2  1630.449311\n",
       "3   3  3908.465900\n",
       "4   4  1757.295149"
      ]
     },
     "execution_count": 139,
     "metadata": {},
     "output_type": "execute_result"
    }
   ],
   "source": [
    "prueba1 = {modelName:hist.predict(data[[\"carat\", \"cut\", \"color\", \"clarity\", \"depth\", \"table\"]]) for modelName, model in models.items()}\n",
    "\n",
    "testdf1 = pd.DataFrame(prueba1)\n",
    "\n",
    "testdf1['id']=data['id']\n",
    "\n",
    "\n",
    "new_h = testdf1[['id','model']]\n",
    "\n",
    "new_h.rename(columns={\"model\": \"price\"}, inplace=True)\n",
    "\n",
    "new_h.head()"
   ]
  },
  {
   "cell_type": "code",
   "execution_count": 140,
   "metadata": {},
   "outputs": [],
   "source": [
    "new_h.to_csv('output/pruebadiamonds10.csv', index=False)"
   ]
  },
  {
   "cell_type": "code",
   "execution_count": null,
   "metadata": {},
   "outputs": [],
   "source": []
  }
 ],
 "metadata": {
  "kernelspec": {
   "display_name": "Python 3",
   "language": "python",
   "name": "python3"
  },
  "language_info": {
   "codemirror_mode": {
    "name": "ipython",
    "version": 3
   },
   "file_extension": ".py",
   "mimetype": "text/x-python",
   "name": "python",
   "nbconvert_exporter": "python",
   "pygments_lexer": "ipython3",
   "version": "3.7.5"
  }
 },
 "nbformat": 4,
 "nbformat_minor": 2
}
